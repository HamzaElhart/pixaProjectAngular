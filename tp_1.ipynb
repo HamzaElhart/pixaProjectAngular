{
  "nbformat": 4,
  "nbformat_minor": 0,
  "metadata": {
    "colab": {
      "provenance": [],
      "authorship_tag": "ABX9TyPbGCoZseokPyRx2jMNr6nD",
      "include_colab_link": true
    },
    "kernelspec": {
      "name": "python3",
      "display_name": "Python 3"
    },
    "language_info": {
      "name": "python"
    }
  },
  "cells": [
    {
      "cell_type": "markdown",
      "metadata": {
        "id": "view-in-github",
        "colab_type": "text"
      },
      "source": [
        "<a href=\"https://colab.research.google.com/github/HamzaElhart/pixaProjectAngular/blob/main/tp_1.ipynb\" target=\"_parent\"><img src=\"https://colab.research.google.com/assets/colab-badge.svg\" alt=\"Open In Colab\"/></a>"
      ]
    },
    {
      "cell_type": "code",
      "execution_count": null,
      "metadata": {
        "id": "dODS4A48HtRe"
      },
      "outputs": [],
      "source": [
        "import torch"
      ]
    },
    {
      "cell_type": "code",
      "source": [
        "scalar = torch.tensor(42)\n",
        "print(scalar)\n",
        "scalar.shape"
      ],
      "metadata": {
        "colab": {
          "base_uri": "https://localhost:8080/"
        },
        "id": "K5Y68EvpSOab",
        "outputId": "e5841274-80d4-40ce-d91a-786dc5740d37"
      },
      "execution_count": null,
      "outputs": [
        {
          "output_type": "stream",
          "name": "stdout",
          "text": [
            "tensor(42)\n"
          ]
        },
        {
          "output_type": "execute_result",
          "data": {
            "text/plain": [
              "torch.Size([])"
            ]
          },
          "metadata": {},
          "execution_count": 2
        }
      ]
    },
    {
      "cell_type": "code",
      "source": [
        "vector = torch.tensor([1 , 2 , 3 , 4])\n",
        "print(vector)\n",
        "vector.shape"
      ],
      "metadata": {
        "colab": {
          "base_uri": "https://localhost:8080/"
        },
        "id": "XnZEst3TSYAn",
        "outputId": "0da9be9e-9b3d-45b6-b297-3e5d4ff9f4c7"
      },
      "execution_count": null,
      "outputs": [
        {
          "output_type": "stream",
          "name": "stdout",
          "text": [
            "tensor([1, 2, 3, 4])\n"
          ]
        },
        {
          "output_type": "execute_result",
          "data": {
            "text/plain": [
              "torch.Size([4])"
            ]
          },
          "metadata": {},
          "execution_count": 3
        }
      ]
    },
    {
      "cell_type": "code",
      "source": [
        "matrix_2D = torch.tensor([[-1 , -2 , -3] , [-4 , -5 , 6]])\n",
        "print(matrix_2D)\n",
        "matrix_2D.shape"
      ],
      "metadata": {
        "colab": {
          "base_uri": "https://localhost:8080/"
        },
        "id": "PFvXWM_lS0Ma",
        "outputId": "f8509e71-c08a-4fc4-ccd1-5b58e8736219"
      },
      "execution_count": null,
      "outputs": [
        {
          "output_type": "stream",
          "name": "stdout",
          "text": [
            "tensor([[-1, -2, -3],\n",
            "        [-4, -5,  6]])\n"
          ]
        },
        {
          "output_type": "execute_result",
          "data": {
            "text/plain": [
              "torch.Size([2, 3])"
            ]
          },
          "metadata": {},
          "execution_count": 4
        }
      ]
    },
    {
      "cell_type": "code",
      "source": [
        "matrix_3D = torch.tensor([[1 , 2 , 3] , [4 , 5 , 6] , [7 , 8 , 9]])\n",
        "print(matrix_3D)\n",
        "matrix_3D.shape"
      ],
      "metadata": {
        "colab": {
          "base_uri": "https://localhost:8080/"
        },
        "id": "bSMRiOrXTDgR",
        "outputId": "e90d1ff5-632d-4083-d9d8-51d3893fb326"
      },
      "execution_count": null,
      "outputs": [
        {
          "output_type": "stream",
          "name": "stdout",
          "text": [
            "tensor([[1, 2, 3],\n",
            "        [4, 5, 6],\n",
            "        [7, 8, 9]])\n"
          ]
        },
        {
          "output_type": "execute_result",
          "data": {
            "text/plain": [
              "torch.Size([3, 3])"
            ]
          },
          "metadata": {},
          "execution_count": 5
        }
      ]
    },
    {
      "cell_type": "code",
      "source": [
        "mt_5 = torch.randn(5 , 5)\n",
        "print(mt_5 , '\\n')\n",
        "print(mt_5.shape ,'\\n')\n",
        "print(mt_5.type() , '\\n')\n",
        "print(mt_5.device , '\\n')\n",
        "print(mt_5.diag() , '\\n')"
      ],
      "metadata": {
        "colab": {
          "base_uri": "https://localhost:8080/"
        },
        "id": "iHH-NeiyTvcS",
        "outputId": "f3b16477-525a-4c18-913b-f656227a32bb"
      },
      "execution_count": null,
      "outputs": [
        {
          "output_type": "stream",
          "name": "stdout",
          "text": [
            "tensor([[-0.1907,  1.7247, -0.8873,  0.8006,  1.0284],\n",
            "        [ 1.4564,  0.8214,  1.6185,  1.4571, -1.0483],\n",
            "        [-0.5997, -0.9094,  1.0939,  0.7458,  1.0976],\n",
            "        [ 0.3858,  2.5329,  1.6088,  0.2784,  1.4890],\n",
            "        [-0.0172, -2.6715, -1.9912, -0.0267, -0.5847]]) \n",
            "\n",
            "torch.Size([5, 5]) \n",
            "\n",
            "torch.FloatTensor \n",
            "\n",
            "cpu \n",
            "\n",
            "tensor([-0.1907,  0.8214,  1.0939,  0.2784, -0.5847]) \n",
            "\n"
          ]
        }
      ]
    },
    {
      "cell_type": "code",
      "source": [
        "def to_zeros(tensor) :\n",
        "  size = tensor.shape\n",
        "  for i in range(size[0]) :\n",
        "    for j in range(size[1]) :\n",
        "      if tensor[i , j] < 0 :\n",
        "        tensor[i , j] = 0\n",
        "  print(tensor)\n",
        "\n",
        "to_zeros(mt_5)"
      ],
      "metadata": {
        "colab": {
          "base_uri": "https://localhost:8080/"
        },
        "id": "rR63zagBVLGM",
        "outputId": "46bd37e3-3e6f-4385-8037-54c5bf15fe90"
      },
      "execution_count": null,
      "outputs": [
        {
          "output_type": "stream",
          "name": "stdout",
          "text": [
            "tensor([[0.0000, 1.7247, 0.0000, 0.8006, 1.0284],\n",
            "        [1.4564, 0.8214, 1.6185, 1.4571, 0.0000],\n",
            "        [0.0000, 0.0000, 1.0939, 0.7458, 1.0976],\n",
            "        [0.3858, 2.5329, 1.6088, 0.2784, 1.4890],\n",
            "        [0.0000, 0.0000, 0.0000, 0.0000, 0.0000]])\n"
          ]
        }
      ]
    },
    {
      "cell_type": "code",
      "source": [
        "mask = mt_5 < 0\n",
        "mt_5[mask] = 0\n",
        "print(\"filtred values : \" , mt_5)"
      ],
      "metadata": {
        "colab": {
          "base_uri": "https://localhost:8080/"
        },
        "id": "9oYLVoBSXQyF",
        "outputId": "c7900ece-82f4-4be9-eb04-68cf2abdaefb"
      },
      "execution_count": null,
      "outputs": [
        {
          "output_type": "stream",
          "name": "stdout",
          "text": [
            "filtred values :  tensor([[0.0000, 1.7247, 0.0000, 0.8006, 1.0284],\n",
            "        [1.4564, 0.8214, 1.6185, 1.4571, 0.0000],\n",
            "        [0.0000, 0.0000, 1.0939, 0.7458, 1.0976],\n",
            "        [0.3858, 2.5329, 1.6088, 0.2784, 1.4890],\n",
            "        [0.0000, 0.0000, 0.0000, 0.0000, 0.0000]])\n"
          ]
        }
      ]
    },
    {
      "cell_type": "code",
      "source": [
        "l = mt_5.mean(dim= 1)\n",
        "print(\"la moyenne des lignes : \" , l)\n",
        "c = mt_5.mean(dim= 0)\n",
        "print(\"la moyenne des colmnes : \" , c)\n"
      ],
      "metadata": {
        "colab": {
          "base_uri": "https://localhost:8080/"
        },
        "id": "DHY7XOuLYtN9",
        "outputId": "0b568c35-d19d-4960-96a4-2b810da7c175"
      },
      "execution_count": null,
      "outputs": [
        {
          "output_type": "stream",
          "name": "stdout",
          "text": [
            "la moyenne des lignes :  tensor([0.7107, 1.0707, 0.5875, 1.2590, 0.0000])\n",
            "la moyenne des colmnes :  tensor([0.3684, 1.0158, 0.8642, 0.6564, 0.7230])\n"
          ]
        }
      ]
    },
    {
      "cell_type": "code",
      "source": [
        "mt_5.max()\n",
        "max_ligne , inx_ligne = mt_5.max(dim=0)\n",
        "max_C , inx_C = mt_5.max(dim=1)\n",
        "ind = [list(max_C).index(max_C.max()) ,list(max_ligne).index(max_ligne.max()) ]\n",
        "print(ind)\n",
        "print(mt_5[1][4])"
      ],
      "metadata": {
        "colab": {
          "base_uri": "https://localhost:8080/"
        },
        "id": "E4cFyX1tayvJ",
        "outputId": "c4238df3-086f-4204-c1e8-a1d79e726d3b"
      },
      "execution_count": null,
      "outputs": [
        {
          "output_type": "stream",
          "name": "stdout",
          "text": [
            "[3, 1]\n",
            "tensor(0.)\n"
          ]
        }
      ]
    },
    {
      "cell_type": "code",
      "source": [
        "import torch.nn.functional as F"
      ],
      "metadata": {
        "id": "QM805Cw6bpIE"
      },
      "execution_count": null,
      "outputs": []
    },
    {
      "cell_type": "code",
      "source": [
        "tensor_mean = mt_5.mean()"
      ],
      "metadata": {
        "id": "1ak4wcWefEkO"
      },
      "execution_count": null,
      "outputs": []
    },
    {
      "cell_type": "code",
      "source": [
        "tensor_std  = mt_5.std()"
      ],
      "metadata": {
        "id": "HvnemM4Vf9eJ"
      },
      "execution_count": null,
      "outputs": []
    },
    {
      "cell_type": "code",
      "source": [
        "normalized_tensor = ((mt_5 - tensor_mean) / tensor_std)\n",
        "print(normalized_tensor)"
      ],
      "metadata": {
        "colab": {
          "base_uri": "https://localhost:8080/"
        },
        "id": "q2otbWa8gCX9",
        "outputId": "35c42663-e1c6-4088-c2d3-6c1248eb4c38"
      },
      "execution_count": null,
      "outputs": [
        {
          "output_type": "stream",
          "name": "stdout",
          "text": [
            "tensor([[-0.9690,  1.3344, -0.9690,  0.1002,  0.4044],\n",
            "        [ 0.9761,  0.1280,  1.1925,  0.9770, -0.9690],\n",
            "        [-0.9690, -0.9690,  0.4920,  0.0270,  0.4968],\n",
            "        [-0.4538,  2.4138,  1.1796, -0.5972,  1.0196],\n",
            "        [-0.9690, -0.9690, -0.9690, -0.9690, -0.9690]])\n"
          ]
        }
      ]
    },
    {
      "cell_type": "code",
      "source": [
        "mask_bl = mt_5 > 0.5\n",
        "mask_bl\n"
      ],
      "metadata": {
        "colab": {
          "base_uri": "https://localhost:8080/"
        },
        "id": "nceJY3AVgOCj",
        "outputId": "f08b0202-66bf-4a1c-9193-8a898c864524"
      },
      "execution_count": null,
      "outputs": [
        {
          "output_type": "execute_result",
          "data": {
            "text/plain": [
              "tensor([[False,  True, False,  True,  True],\n",
              "        [ True,  True,  True,  True, False],\n",
              "        [False, False,  True,  True,  True],\n",
              "        [False,  True,  True, False,  True],\n",
              "        [False, False, False, False, False]])"
            ]
          },
          "metadata": {},
          "execution_count": 15
        }
      ]
    },
    {
      "cell_type": "code",
      "source": [
        "mask_bl = mt_5 > 0.5\n",
        "mt_5[mask_bl]"
      ],
      "metadata": {
        "colab": {
          "base_uri": "https://localhost:8080/"
        },
        "id": "FLrq3Bf810cd",
        "outputId": "a459dc05-23ef-41f3-d423-4b0c5d3ca869"
      },
      "execution_count": null,
      "outputs": [
        {
          "output_type": "execute_result",
          "data": {
            "text/plain": [
              "tensor([1.7247, 0.8006, 1.0284, 1.4564, 0.8214, 1.6185, 1.4571, 1.0939, 0.7458,\n",
              "        1.0976, 2.5329, 1.6088, 1.4890])"
            ]
          },
          "metadata": {},
          "execution_count": 18
        }
      ]
    },
    {
      "cell_type": "code",
      "source": [
        "tensor_1 = torch.randn(3 , 3)\n",
        "tensor_2 = torch.randn(3 , 3)\n",
        "print(tensor_1)\n",
        "print(tensor_2)"
      ],
      "metadata": {
        "colab": {
          "base_uri": "https://localhost:8080/"
        },
        "id": "4ldVEjyf2sYj",
        "outputId": "dde2854c-a007-4d1d-b6da-8f957757f18c"
      },
      "execution_count": null,
      "outputs": [
        {
          "output_type": "stream",
          "name": "stdout",
          "text": [
            "tensor([[-0.5747, -2.4693, -0.7640],\n",
            "        [-0.7463,  0.4435, -0.6032],\n",
            "        [ 0.5374, -2.0364, -0.2554]])\n",
            "tensor([[-0.8575, -0.9727, -0.3285],\n",
            "        [ 1.7761,  0.7453, -0.5894],\n",
            "        [ 0.2631,  0.8135,  0.8285]])\n"
          ]
        }
      ]
    },
    {
      "cell_type": "code",
      "source": [
        "multiplication = tensor_1 * tensor_2\n",
        "print(multiplication)\n",
        "addition = tensor_1 + tensor_2\n",
        "print(addition)\n",
        "substract = tensor_1 - tensor_2\n",
        "print(substract)"
      ],
      "metadata": {
        "colab": {
          "base_uri": "https://localhost:8080/"
        },
        "id": "wGdfll1q24Lk",
        "outputId": "787e1d29-588f-4ad3-b18d-89a5ae373ad6"
      },
      "execution_count": null,
      "outputs": [
        {
          "output_type": "stream",
          "name": "stdout",
          "text": [
            "tensor([[ 0.4929,  2.4018,  0.2510],\n",
            "        [-1.3256,  0.3306,  0.3555],\n",
            "        [ 0.1414, -1.6567, -0.2116]])\n",
            "tensor([[-1.4323, -3.4420, -1.0925],\n",
            "        [ 1.0297,  1.1889, -1.1926],\n",
            "        [ 0.8005, -1.2229,  0.5731]])\n",
            "tensor([[ 0.2828, -1.4966, -0.4355],\n",
            "        [-2.5224, -0.3018, -0.0138],\n",
            "        [ 0.2743, -2.8499, -1.0840]])\n"
          ]
        }
      ]
    },
    {
      "cell_type": "code",
      "source": [
        "multiplication_matrix = tensor_1 @ tensor_2\n",
        "print(multiplication_matrix)"
      ],
      "metadata": {
        "colab": {
          "base_uri": "https://localhost:8080/"
        },
        "id": "j4YvRXcE3yfb",
        "outputId": "c2127506-a447-41e2-8564-e1e25609b10c"
      },
      "execution_count": null,
      "outputs": [
        {
          "output_type": "stream",
          "name": "stdout",
          "text": [
            "tensor([[-4.0938, -1.9030,  1.0112],\n",
            "        [ 1.2690,  0.5658, -0.5160],\n",
            "        [-4.1449, -2.2484,  0.8121]])\n"
          ]
        }
      ]
    },
    {
      "cell_type": "code",
      "source": [
        "determinant = tensor_1.det()\n",
        "print(determinant)"
      ],
      "metadata": {
        "colab": {
          "base_uri": "https://localhost:8080/"
        },
        "id": "Kc3MH0sH43Yz",
        "outputId": "d993c882-216e-4a21-f96a-e9a150923952"
      },
      "execution_count": null,
      "outputs": [
        {
          "output_type": "stream",
          "name": "stdout",
          "text": [
            "tensor(1.0632)\n"
          ]
        }
      ]
    },
    {
      "cell_type": "code",
      "source": [
        "inverse = tensor_1.inverse()\n",
        "print(inverse)"
      ],
      "metadata": {
        "colab": {
          "base_uri": "https://localhost:8080/"
        },
        "id": "b7V8OwKH5gRh",
        "outputId": "7997e134-b57d-417e-ae83-c2766870d60d"
      },
      "execution_count": null,
      "outputs": [
        {
          "output_type": "stream",
          "name": "stdout",
          "text": [
            "tensor([[-1.2619,  0.8701,  1.7196],\n",
            "        [-0.4842,  0.5243,  0.2102],\n",
            "        [ 1.2053, -2.3489, -1.9731]])\n"
          ]
        }
      ]
    },
    {
      "cell_type": "code",
      "source": [
        "# inv = (1 / determinant) * tensor_1\n",
        "# print(inv)"
      ],
      "metadata": {
        "colab": {
          "base_uri": "https://localhost:8080/"
        },
        "id": "tdS8OuE95y1k",
        "outputId": "6a866de6-8309-4bb4-b198-03adfacc8ac0"
      },
      "execution_count": null,
      "outputs": [
        {
          "output_type": "stream",
          "name": "stdout",
          "text": [
            "tensor([[-0.5406, -2.3225, -0.7186],\n",
            "        [-0.7020,  0.4171, -0.5673],\n",
            "        [ 0.5054, -1.9153, -0.2403]])\n"
          ]
        }
      ]
    },
    {
      "cell_type": "code",
      "source": [
        "1 / tensor_1"
      ],
      "metadata": {
        "colab": {
          "base_uri": "https://localhost:8080/"
        },
        "id": "35TR1EYi6Kaz",
        "outputId": "830d7953-137e-44f2-cd07-48e71adf5f7a"
      },
      "execution_count": null,
      "outputs": [
        {
          "output_type": "execute_result",
          "data": {
            "text/plain": [
              "tensor([[-1.7399, -0.4050, -1.3089],\n",
              "        [-1.3399,  2.2547, -1.6578],\n",
              "        [ 1.8608, -0.4911, -3.9147]])"
            ]
          },
          "metadata": {},
          "execution_count": 34
        }
      ]
    },
    {
      "cell_type": "code",
      "source": [
        "tensor_3 = torch.tensor([[1 , 2 , 3] , [4 , 5 , 6]])\n",
        "print(tensor_3)"
      ],
      "metadata": {
        "colab": {
          "base_uri": "https://localhost:8080/"
        },
        "id": "0cBNIfWI6skJ",
        "outputId": "8fe5ddf4-a4d5-4b1d-96b8-be861d270798"
      },
      "execution_count": null,
      "outputs": [
        {
          "output_type": "stream",
          "name": "stdout",
          "text": [
            "tensor([[1, 2, 3],\n",
            "        [4, 5, 6]])\n"
          ]
        }
      ]
    },
    {
      "cell_type": "code",
      "source": [
        "tensor_4 = torch.tensor([10 , 20 , 30])\n",
        "print(tensor_4)"
      ],
      "metadata": {
        "colab": {
          "base_uri": "https://localhost:8080/"
        },
        "id": "c5BLB1mE7UlX",
        "outputId": "4315f3da-c3e4-4a5c-bee2-064d6685477c"
      },
      "execution_count": null,
      "outputs": [
        {
          "output_type": "stream",
          "name": "stdout",
          "text": [
            "tensor([[10, 20, 30]])\n"
          ]
        }
      ]
    },
    {
      "cell_type": "code",
      "source": [
        "tensor_3 += tensor_4\n",
        "print(tensor_3)"
      ],
      "metadata": {
        "colab": {
          "base_uri": "https://localhost:8080/"
        },
        "id": "alRkIq-77gT2",
        "outputId": "cdd23ef3-1ab2-4a0d-989b-bfcc726ab276"
      },
      "execution_count": null,
      "outputs": [
        {
          "output_type": "stream",
          "name": "stdout",
          "text": [
            "tensor([[ 41,  82, 123],\n",
            "        [ 44,  85, 126]])\n"
          ]
        }
      ]
    },
    {
      "cell_type": "code",
      "source": [
        "tensor_5 = torch.tensor([[1] ,\n",
        "                         [2] ,\n",
        "                         [3] ,\n",
        "                         [4]])\n",
        "print(tensor_5)\n",
        "tensor_6 = torch.tensor([[1 , 2 , 3 ] ,\n",
        "                         [1 , 2 , 3 ] ,\n",
        "                          [1 , 2 , 3 ] ,\n",
        "                           [1 , 2 , 3 ] ])\n",
        "print(tensor_6)"
      ],
      "metadata": {
        "colab": {
          "base_uri": "https://localhost:8080/"
        },
        "id": "v7lqLgbC8SJg",
        "outputId": "94f055f9-22e9-4fa8-ca9c-6416b18bca2a"
      },
      "execution_count": null,
      "outputs": [
        {
          "output_type": "stream",
          "name": "stdout",
          "text": [
            "tensor([[1],\n",
            "        [2],\n",
            "        [3],\n",
            "        [4]])\n",
            "tensor([[1, 2, 3],\n",
            "        [1, 2, 3],\n",
            "        [1, 2, 3],\n",
            "        [1, 2, 3]])\n"
          ]
        }
      ]
    },
    {
      "cell_type": "code",
      "source": [
        "tensor_6 += tensor_5\n",
        "print(tensor_6)"
      ],
      "metadata": {
        "colab": {
          "base_uri": "https://localhost:8080/"
        },
        "id": "Kxz2Qrc499Gd",
        "outputId": "7374a388-5289-440e-9c32-bbf680d1e7b8"
      },
      "execution_count": null,
      "outputs": [
        {
          "output_type": "stream",
          "name": "stdout",
          "text": [
            "tensor([[2, 3, 4],\n",
            "        [3, 4, 5],\n",
            "        [4, 5, 6],\n",
            "        [5, 6, 7]])\n"
          ]
        }
      ]
    },
    {
      "cell_type": "code",
      "source": [
        "tensor_10x10 = torch.arange(100)\n",
        "# print(tensor_10x10)\n",
        "tensor_10x10_reshape = tensor_10x10.reshape(10 , 10)\n",
        "print(tensor_10x10_reshape , 'size : ' , tensor_10x10_reshape.shape)"
      ],
      "metadata": {
        "colab": {
          "base_uri": "https://localhost:8080/"
        },
        "id": "L7lwsN28-UbP",
        "outputId": "36cb0dda-74c3-4f64-f22f-9bd351440270"
      },
      "execution_count": null,
      "outputs": [
        {
          "output_type": "stream",
          "name": "stdout",
          "text": [
            "tensor([[ 0,  1,  2,  3,  4,  5,  6,  7,  8,  9],\n",
            "        [10, 11, 12, 13, 14, 15, 16, 17, 18, 19],\n",
            "        [20, 21, 22, 23, 24, 25, 26, 27, 28, 29],\n",
            "        [30, 31, 32, 33, 34, 35, 36, 37, 38, 39],\n",
            "        [40, 41, 42, 43, 44, 45, 46, 47, 48, 49],\n",
            "        [50, 51, 52, 53, 54, 55, 56, 57, 58, 59],\n",
            "        [60, 61, 62, 63, 64, 65, 66, 67, 68, 69],\n",
            "        [70, 71, 72, 73, 74, 75, 76, 77, 78, 79],\n",
            "        [80, 81, 82, 83, 84, 85, 86, 87, 88, 89],\n",
            "        [90, 91, 92, 93, 94, 95, 96, 97, 98, 99]]) size :  torch.Size([10, 10])\n"
          ]
        }
      ]
    },
    {
      "cell_type": "code",
      "source": [
        "split_1 = tensor_10x10_reshape[: , 1]\n",
        "print(split_1)\n",
        "print(split_1.shape)"
      ],
      "metadata": {
        "colab": {
          "base_uri": "https://localhost:8080/"
        },
        "id": "ihKT3IVpAb2s",
        "outputId": "d6dae2eb-7e36-4972-e329-b3d19467e1e8"
      },
      "execution_count": null,
      "outputs": [
        {
          "output_type": "stream",
          "name": "stdout",
          "text": [
            "tensor([ 1, 11, 21, 31, 41, 51, 61, 71, 81, 91])\n",
            "torch.Size([10])\n"
          ]
        }
      ]
    },
    {
      "cell_type": "code",
      "source": [
        "mask_bl = split_1 > 30\n",
        "mask_bl"
      ],
      "metadata": {
        "colab": {
          "base_uri": "https://localhost:8080/"
        },
        "id": "aL6jdk5tAiDH",
        "outputId": "846898e5-6c0d-4240-b1c1-284acd9b4650"
      },
      "execution_count": null,
      "outputs": [
        {
          "output_type": "execute_result",
          "data": {
            "text/plain": [
              "tensor([False, False, False,  True,  True,  True,  True,  True,  True,  True])"
            ]
          },
          "metadata": {},
          "execution_count": 91
        }
      ]
    },
    {
      "cell_type": "code",
      "source": [
        "mask_bl = split_1 % 3 == 0\n",
        "mask_bl"
      ],
      "metadata": {
        "colab": {
          "base_uri": "https://localhost:8080/"
        },
        "id": "lr1CPvtKBv-k",
        "outputId": "fbb8edcb-db51-43ac-e65c-906ba47e8c4d"
      },
      "execution_count": null,
      "outputs": [
        {
          "output_type": "execute_result",
          "data": {
            "text/plain": [
              "tensor([False, False,  True, False, False,  True, False, False,  True, False])"
            ]
          },
          "metadata": {},
          "execution_count": 94
        }
      ]
    },
    {
      "cell_type": "code",
      "source": [
        "import matplotlib.pyplot as plt\n",
        "# data = torch.randn(8, 8)\n",
        "data = torch.tensor([[0 , 255 , 0 , 255 , 0 , 255 , 0 , 255] ,\n",
        "                    [255 , 0 , 255 , 0 , 255 , 0 , 255 , 0] ,\n",
        "                    [0 , 255 , 0 , 255 , 0 , 255 , 0 , 255] ,\n",
        "                    [255 , 0 , 255 , 0 , 255 , 0 , 255 , 0] ,\n",
        "                    [0 , 255 , 0 , 255 , 0 , 255 , 0 , 255] ,\n",
        "                    [255 , 0 , 255 , 0 , 255 , 0 , 255 , 0] ,\n",
        "                    [0 , 255 , 0 , 255 , 0 , 255 , 0 , 255] ,\n",
        "                    [255 , 0 , 255 , 0 , 255 , 0 , 255 , 0]])\n",
        "plt.imshow(data , cmap='grey')"
      ],
      "metadata": {
        "colab": {
          "base_uri": "https://localhost:8080/",
          "height": 447
        },
        "id": "EJcNhsNSEhb1",
        "outputId": "261eab7a-0ea2-4eb7-a11d-f6fcadf3771c"
      },
      "execution_count": null,
      "outputs": [
        {
          "output_type": "execute_result",
          "data": {
            "text/plain": [
              "<matplotlib.image.AxesImage at 0x7b8f3d5b2f50>"
            ]
          },
          "metadata": {},
          "execution_count": 102
        },
        {
          "output_type": "display_data",
          "data": {
            "text/plain": [
              "<Figure size 640x480 with 1 Axes>"
            ],
            "image/png": "[encoded data removed]"
          },
          "metadata": {}
        }
      ]
    },
    {
      "cell_type": "code",
      "source": [
        "data = torch.tensor([[0 , 255 , 0 , 255 , 0 , 255 , 0 , 255] ,\n",
        "                    [255 , 0 , 255 , 0 , 255 , 0 , 255 , 0] ,\n",
        "                    [0 , 255 , 0 , 255 , 0 , 255 , 0 , 255] ,\n",
        "                    [255 , 0 , 255 , 0 , 255 , 0 , 255 , 0] ,\n",
        "                    [0 , 255 , 0 , 255 , 0 , 255 , 0 , 255] ,\n",
        "                    [255 , 0 , 255 , 0 , 255 , 0 , 255 , 0] ,\n",
        "                    [0 , 255 , 0 , 255 , 0 , 255 , 0 , 255] ,\n",
        "                    [255 , 0 , 255 , 0 , 255 , 0 , 255 , 0]])\n",
        "\n",
        "print(data)"
      ],
      "metadata": {
        "colab": {
          "base_uri": "https://localhost:8080/"
        },
        "id": "jgmnvjdRFQ3Q",
        "outputId": "2795217d-be73-4ae9-a851-67defa031796"
      },
      "execution_count": null,
      "outputs": [
        {
          "output_type": "stream",
          "name": "stdout",
          "text": [
            "tensor([[  0, 255,   0, 255,   0, 255,   0, 255],\n",
            "        [255,   0, 255,   0, 255,   0, 255,   0],\n",
            "        [  0, 255,   0, 255,   0, 255,   0, 255],\n",
            "        [255,   0, 255,   0, 255,   0, 255,   0],\n",
            "        [  0, 255,   0, 255,   0, 255,   0, 255],\n",
            "        [255,   0, 255,   0, 255,   0, 255,   0],\n",
            "        [  0, 255,   0, 255,   0, 255,   0, 255],\n",
            "        [255,   0, 255,   0, 255,   0, 255,   0]])\n"
          ]
        }
      ]
    },
    {
      "cell_type": "code",
      "source": [],
      "metadata": {
        "id": "AQNj11z1HpV4"
      },
      "execution_count": null,
      "outputs": []
    }
  ]
}